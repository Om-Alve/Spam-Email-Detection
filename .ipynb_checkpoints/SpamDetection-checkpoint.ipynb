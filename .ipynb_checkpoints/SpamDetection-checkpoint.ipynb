{
 "cells": [
  {
   "cell_type": "code",
   "execution_count": 1,
   "id": "1b2eaa1a-ce79-4468-a0bb-b3b057294699",
   "metadata": {},
   "outputs": [],
   "source": [
    "import numpy as np\n",
    "import pandas as pd\n",
    "from sklearn.preprocessing import LabelEncoder\n",
    "from nltk.tokenize import word_tokenize,RegexpTokenizer\n",
    "from nltk.corpus import stopwords\n",
    "from nltk.stem import PorterStemmer\n",
    "from sklearn.feature_extraction.text import CountVectorizer\n",
    "from sklearn.model_selection import train_test_split"
   ]
  },
  {
   "cell_type": "code",
   "execution_count": 2,
   "id": "f8985cf2-9a66-473b-8b77-c0fdedefe521",
   "metadata": {},
   "outputs": [],
   "source": [
    "df= pd.read_csv('Dataset/spam.csv',encoding='ISO8859-1')\n",
    "en = LabelEncoder()"
   ]
  },
  {
   "cell_type": "code",
   "execution_count": 3,
   "id": "e7128045-9c20-4add-8c19-861dfccbff26",
   "metadata": {},
   "outputs": [
    {
     "data": {
      "text/plain": [
       "(5572, 5)"
      ]
     },
     "execution_count": 3,
     "metadata": {},
     "output_type": "execute_result"
    }
   ],
   "source": [
    "data = df.to_numpy()\n",
    "data.shape"
   ]
  },
  {
   "cell_type": "code",
   "execution_count": 4,
   "id": "9bf36108-0de5-4828-8cd6-3761126550ae",
   "metadata": {},
   "outputs": [],
   "source": [
    "X = data[:,1]\n",
    "y = data[:,0]"
   ]
  },
  {
   "cell_type": "code",
   "execution_count": 5,
   "id": "f2b7f6c0-ec18-47c2-beb6-3e7613511a9e",
   "metadata": {},
   "outputs": [],
   "source": [
    "tokenizer = RegexpTokenizer('\\w+')\n",
    "sw = set(stopwords.words('english'))\n",
    "stemmer = PorterStemmer()"
   ]
  },
  {
   "cell_type": "code",
   "execution_count": 6,
   "id": "7540617e-320b-4a98-a04a-1fb34d4f7ae8",
   "metadata": {},
   "outputs": [],
   "source": [
    "def clean(text):\n",
    "    text = text.lower()\n",
    "    token = tokenizer.tokenize(text)\n",
    "    removed_stopwords = [w for w in token if w not in sw]\n",
    "    stemmed = [stemmer.stem(w) for w in removed_stopwords]\n",
    "    cleaned = ' '.join(stemmed)\n",
    "    return cleaned\n",
    "def cleandoc(doc):\n",
    "    document = []\n",
    "    for sentence in doc:\n",
    "        document.append(clean(sentence))\n",
    "    return document"
   ]
  },
  {
   "cell_type": "code",
   "execution_count": 7,
   "id": "1fcfdbe9-1d3a-45db-b310-c0be085e6527",
   "metadata": {},
   "outputs": [],
   "source": [
    "doc = cleandoc(X)"
   ]
  },
  {
   "cell_type": "code",
   "execution_count": 8,
   "id": "be5cf0e4-0a9f-49d0-88df-49f12a5d5202",
   "metadata": {},
   "outputs": [],
   "source": [
    "cv = CountVectorizer()\n",
    "vc = cv.fit_transform(doc)\n",
    "X = vc.toarray()"
   ]
  },
  {
   "cell_type": "code",
   "execution_count": 9,
   "id": "fe062703-e3b2-4815-a716-9b213c369c0c",
   "metadata": {},
   "outputs": [],
   "source": [
    "X_train, X_test, y_train, y_test = train_test_split(\n",
    "...     X, y, test_size=0.33, random_state=42)"
   ]
  },
  {
   "cell_type": "code",
   "execution_count": 10,
   "id": "1a978189-fed4-461f-a0dd-d1e2dc976926",
   "metadata": {},
   "outputs": [],
   "source": [
    "from sklearn.naive_bayes import MultinomialNB"
   ]
  },
  {
   "cell_type": "code",
   "execution_count": 11,
   "id": "eb19c854-f5c4-4d47-b729-806cb3f2e7ab",
   "metadata": {},
   "outputs": [],
   "source": [
    "class CustomNaiveBayes:\n",
    "    def fit(self,X,y):\n",
    "        self.X_train = X\n",
    "        self.y_train = y\n",
    "    # Formula\n",
    "    # p(y/x) = p(y) * p(x/y)\n",
    "    \n",
    "    # Prior probability i.e. p(y) \n",
    "    def prior_prob(self,label):\n",
    "        return np.sum(self.y_train==label)/self.y_train.shape[0]\n",
    "    # Conditional Probability i.e. p(x/y)\n",
    "    def conditional_prob(self,label,feature_col,feature_val):\n",
    "        X_mod = self.X_train[self.y_train == label]\n",
    "        return np.sum(X_mod[:,feature_col]==feature_val)/float(X_mod.shape[0])\n",
    "    \n",
    "    def predict_point(self,X_test):\n",
    "        post = []\n",
    "        classes = np.unique(self.y_train)\n",
    "        features = self.X_train.shape[1]\n",
    "        for label in classes:\n",
    "            likelihood = 1.0\n",
    "            for feature in range(features):\n",
    "                likelihood*= self.conditional_prob(label,feature,X_test[feature])\n",
    "            post.append(likelihood*self.prior_prob(label))\n",
    "        return np.argmax(post)\n",
    "    \n",
    "    def predict(self,X):\n",
    "        results = []\n",
    "        for point in X:\n",
    "            results.append(self.predict_point(point))\n",
    "        return np.array(results)\n",
    "    def score(self,X_test,y_test):\n",
    "        ans = self.predict(X_test)\n",
    "        return (y_test == ans).mean()"
   ]
  },
  {
   "cell_type": "code",
   "execution_count": 12,
   "id": "f75ce997-f383-441b-834d-46ee3a7fa434",
   "metadata": {},
   "outputs": [],
   "source": [
    "model = CustomNaiveBayes()\n",
    "model.fit(X_train,y_train)"
   ]
  },
  {
   "cell_type": "code",
   "execution_count": 13,
   "id": "e5e60eba-ca77-444f-b0f2-2145cb4557a4",
   "metadata": {},
   "outputs": [],
   "source": [
    "# model.score(X_test,y_test)"
   ]
  },
  {
   "cell_type": "code",
   "execution_count": null,
   "id": "3d28cf2d-a799-4686-b7a0-5a4b42c6bc5e",
   "metadata": {},
   "outputs": [],
   "source": [
    "X_new = [\"\"\"\n",
    "Join us today at 12:00 PM ET / 16:00 UTC for a Red Hat DevNation tech talk on AWS Lambda and serverless Java with Bill Burke.\n",
    "Have you ever tried Java on AWS Lambda but found that the cold-start latency and memory usage were far too high? \n",
    "In this session, we will show how we optimized Java for serverless applications by leveraging GraalVM with Quarkus to \n",
    "provide both supersonic startup speed and a subatomic memory footprint.\n",
    "\n",
    "\"\"\",\n",
    "\"\"\"\n",
    "Dear Harbor Freight Shopper,\n",
    "\n",
    "We would like to offer you a unique opportunity to receive a brand new Milwaukee Drill Ace Set!\n",
    "To claim, simply take this short survey about your experience with us.\n",
    "START SURVEY NOW\n",
    "\"\"\",\n",
    "\"\"\"\n",
    "Hello, Om_Alve.\n",
    "You are welcome to register and compete in Codeforces Round 874 (Div. 3).\n",
    "It starts on Friday, May, 19, 2023 14:35 (UTC). The contest duration is 2 hours 15 minutes. \n",
    "The allowed programming languages are C/C++, Pascal, Java, C#, Python, Ruby, Perl, PHP,\n",
    "Haskell, Scala, OCaml, Go, D, JavaScript, Rust and Kotlin.\n",
    "\"\"\"\n",
    "]\n",
    "X_new = cleandoc(X_new)\n",
    "vc = cv.transform(X_new)\n",
    "Xnew = vc.toarray()\n",
    "model.predict(Xnew)\n"
   ]
  },
  {
   "cell_type": "code",
   "execution_count": null,
   "id": "a04dae95-600e-497b-9952-df956543583a",
   "metadata": {},
   "outputs": [],
   "source": []
  }
 ],
 "metadata": {
  "kernelspec": {
   "display_name": "Python 3 (ipykernel)",
   "language": "python",
   "name": "python3"
  },
  "language_info": {
   "codemirror_mode": {
    "name": "ipython",
    "version": 3
   },
   "file_extension": ".py",
   "mimetype": "text/x-python",
   "name": "python",
   "nbconvert_exporter": "python",
   "pygments_lexer": "ipython3",
   "version": "3.10.9"
  }
 },
 "nbformat": 4,
 "nbformat_minor": 5
}
